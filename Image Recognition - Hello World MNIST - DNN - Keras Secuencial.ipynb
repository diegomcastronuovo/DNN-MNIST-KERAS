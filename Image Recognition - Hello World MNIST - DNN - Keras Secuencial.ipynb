{
  "nbformat": 4,
  "nbformat_minor": 0,
  "metadata": {
    "colab": {
      "provenance": []
    },
    "kernelspec": {
      "name": "python3",
      "display_name": "Python 3"
    },
    "language_info": {
      "name": "python"
    }
  },
  "cells": [
    {
      "cell_type": "code",
      "execution_count": null,
      "metadata": {
        "colab": {
          "base_uri": "https://localhost:8080/"
        },
        "id": "rCJ1LnKBz7HA",
        "outputId": "986cde67-836d-479a-e73d-bd94de46a0a3"
      },
      "outputs": [
        {
          "output_type": "stream",
          "name": "stdout",
          "text": [
            "Downloading data from https://storage.googleapis.com/tensorflow/tf-keras-datasets/mnist.npz\n",
            "11490434/11490434 [==============================] - 1s 0us/step\n"
          ]
        }
      ],
      "source": [
        "from tensorflow.keras.datasets import mnist\n",
        "(train_images, train_labels), (test_images, test_labels) = mnist.load_data()"
      ]
    },
    {
      "cell_type": "code",
      "source": [
        "train_images.shape, test_images.shape"
      ],
      "metadata": {
        "colab": {
          "base_uri": "https://localhost:8080/"
        },
        "id": "641JyJfL00V4",
        "outputId": "a98c4138-f8b5-49bc-c894-b0a208c1623f"
      },
      "execution_count": null,
      "outputs": [
        {
          "output_type": "execute_result",
          "data": {
            "text/plain": [
              "((60000, 28, 28), (10000, 28, 28))"
            ]
          },
          "metadata": {},
          "execution_count": 2
        }
      ]
    },
    {
      "cell_type": "code",
      "source": [
        "train_labels.shape, test_labels.shape"
      ],
      "metadata": {
        "colab": {
          "base_uri": "https://localhost:8080/"
        },
        "id": "FJSV-k2p095y",
        "outputId": "25ee7175-6215-4864-fb32-7da663e0ede6"
      },
      "execution_count": null,
      "outputs": [
        {
          "output_type": "execute_result",
          "data": {
            "text/plain": [
              "((60000,), (10000,))"
            ]
          },
          "metadata": {},
          "execution_count": 3
        }
      ]
    },
    {
      "cell_type": "code",
      "source": [
        "type(train_labels), type(test_labels)\n"
      ],
      "metadata": {
        "colab": {
          "base_uri": "https://localhost:8080/"
        },
        "id": "8Y0eE42d1By2",
        "outputId": "abcf10b2-3227-415d-82da-0453dbad9647"
      },
      "execution_count": null,
      "outputs": [
        {
          "output_type": "execute_result",
          "data": {
            "text/plain": [
              "(numpy.ndarray, numpy.ndarray)"
            ]
          },
          "metadata": {},
          "execution_count": 5
        }
      ]
    },
    {
      "cell_type": "code",
      "source": [
        "import tensorflow\n",
        "from tensorflow import keras\n",
        "from tensorflow.keras import layers\n",
        "\n",
        "model = keras.Sequential([\n",
        "    layers.Dense(512, activation=\"relu\"),\n",
        "    layers.Dense(10, activation=\"softmax\")      # 10 es el Outshape (son 10 digitos los que queremos predecir)\n",
        "])\n",
        "\n",
        "\n",
        "# An optimizer—The mechanism through which the model will update itself based on the training data it sees, so as to improve its performance.\n",
        "# A loss function—How the model will be able to measure its performance on the training data, and thus how it will be able to steer itself in the right direction.\n",
        "# Metrics to monitor during training and testing—Here, we’ll only care about accu-racy (the fraction of the images that were correctly classified).\n",
        "\n",
        "model.compile(optimizer=\"rmsprop\",\n",
        "              loss=\"sparse_categorical_crossentropy\",\n",
        "              metrics=[\"accuracy\"])\n",
        "\n",
        "\n",
        "# Before training, we’ll preprocess the data by reshaping it into the shape the model expects and scaling it so that all values are in the [0, 1] interval.\n",
        "# Previously, our training images were stored in an array of shape (60000, 28, 28) of type uint8 with values in the [0, 255] interval.\n",
        "# We’ll transform it into a float32 array of shape (60000, 28 * 28) with values between 0 and 1. uwedan como(60000, 784)\n",
        "\n",
        "train_images = train_images.reshape((60000, 28 * 28))\n",
        "train_images = train_images.astype(\"float32\") / 255\n",
        "test_images = test_images.reshape((10000, 28 * 28))\n",
        "test_images = test_images.astype(\"float32\") / 255\n",
        "\n",
        "# Fitting the model\n",
        "\n",
        "model.fit(train_images, train_labels, epochs=5, batch_size=128)\n",
        "\n"
      ],
      "metadata": {
        "colab": {
          "base_uri": "https://localhost:8080/"
        },
        "id": "phHvhKkO1E6V",
        "outputId": "02c3da81-2113-4f99-9d29-87e52cc33a7b"
      },
      "execution_count": null,
      "outputs": [
        {
          "output_type": "stream",
          "name": "stdout",
          "text": [
            "Epoch 1/5\n",
            "469/469 [==============================] - 8s 13ms/step - loss: 0.2632 - accuracy: 0.9238\n",
            "Epoch 2/5\n",
            "469/469 [==============================] - 5s 10ms/step - loss: 0.1066 - accuracy: 0.9684\n",
            "Epoch 3/5\n",
            "469/469 [==============================] - 4s 9ms/step - loss: 0.0711 - accuracy: 0.9790\n",
            "Epoch 4/5\n",
            "469/469 [==============================] - 6s 12ms/step - loss: 0.0509 - accuracy: 0.9848\n",
            "Epoch 5/5\n",
            "469/469 [==============================] - 4s 9ms/step - loss: 0.0378 - accuracy: 0.9886\n"
          ]
        },
        {
          "output_type": "execute_result",
          "data": {
            "text/plain": [
              "<keras.callbacks.History at 0x7aeea51eb820>"
            ]
          },
          "metadata": {},
          "execution_count": 6
        }
      ]
    },
    {
      "cell_type": "code",
      "source": [
        "# Make predictions\n",
        "\n",
        "test_digits = test_images[0:10]\n",
        "test_labels[0:10]"
      ],
      "metadata": {
        "colab": {
          "base_uri": "https://localhost:8080/"
        },
        "id": "eGeyuPr34b7y",
        "outputId": "7877014d-7779-4aab-a286-a9b65ce9f5e1"
      },
      "execution_count": null,
      "outputs": [
        {
          "output_type": "execute_result",
          "data": {
            "text/plain": [
              "array([7, 2, 1, 0, 4, 1, 4, 9, 5, 9], dtype=uint8)"
            ]
          },
          "metadata": {},
          "execution_count": 7
        }
      ]
    },
    {
      "cell_type": "code",
      "source": [
        "predictions = model.predict(test_digits)\n",
        "\n",
        "for i in range (0, 10):\n",
        "  print(predictions[i].argmax())"
      ],
      "metadata": {
        "colab": {
          "base_uri": "https://localhost:8080/"
        },
        "id": "vrN9yTTP44wb",
        "outputId": "458e729c-7f7d-4382-ee0b-35afcd56cb04"
      },
      "execution_count": null,
      "outputs": [
        {
          "output_type": "stream",
          "name": "stdout",
          "text": [
            "1/1 [==============================] - 0s 78ms/step\n",
            "7\n",
            "2\n",
            "1\n",
            "0\n",
            "4\n",
            "1\n",
            "4\n",
            "9\n",
            "5\n",
            "9\n"
          ]
        }
      ]
    },
    {
      "cell_type": "code",
      "source": [
        "# Evaluate the model\n",
        "\n",
        "test_loss, test_acc = model.evaluate(test_images, test_labels)\n",
        "print(f\"test_acc: {test_acc}\")\n",
        "\n",
        "\n"
      ],
      "metadata": {
        "colab": {
          "base_uri": "https://localhost:8080/"
        },
        "id": "LpWMPeZl5D8b",
        "outputId": "2715f2c8-b240-4d14-f43f-2dc408c8eafd"
      },
      "execution_count": null,
      "outputs": [
        {
          "output_type": "stream",
          "name": "stdout",
          "text": [
            "313/313 [==============================] - 1s 4ms/step - loss: 0.0708 - accuracy: 0.9779\n",
            "test_acc: 0.9779000282287598\n"
          ]
        }
      ]
    },
    {
      "cell_type": "code",
      "source": [
        "# Definicion de una metrica a medida\n",
        "import tensorflow as tf\n",
        "\n",
        "class RootMeanSquaredError(keras.metrics.Metric):\n",
        "  def __init__(self, name=\"rmseDiego\", **kwargs):\n",
        "    super().__init__(name=name, **kwargs)\n",
        "    self.mse_sum = self.add_weight(name=\"mse_sum\", initializer=\"zeros\")\n",
        "    self.total_samples = self.add_weight(name=\"total_samples\", initializer=\"zeros\", dtype=\"int32\")\n",
        "\n",
        "  def update_state(self, y_true, y_pred, sample_weight=None):\n",
        "    y_true = tf.one_hot(y_true, depth=tf.shape(y_pred)[1])\n",
        "    mse = tf.reduce_sum(tf.square(y_true - y_pred))\n",
        "    self.mse_sum.assign_add(mse)\n",
        "    num_samples = tf.shape(y_pred)[0]\n",
        "    self.total_samples.assign_add(num_samples)\n",
        "\n",
        "  def result(self):\n",
        "    return tf.sqrt(self.mse_sum / tf.cast(self.total_samples, tf.float32))\n",
        "\n",
        "  def reset_state(self):\n",
        "    self.mse_sum.assign(0.)\n",
        "    self.total_samples.assign(0)\n"
      ],
      "metadata": {
        "id": "MfTSTeXf51wf"
      },
      "execution_count": null,
      "outputs": []
    },
    {
      "cell_type": "code",
      "source": [
        "\n",
        "\n",
        "model.compile(optimizer=\"rmsprop\",\n",
        "                      loss=\"sparse_categorical_crossentropy\",\n",
        "                      metrics=[\"accuracy\", RootMeanSquaredError()])\n",
        "\n",
        "model.fit(train_images, train_labels,epochs=3,\n",
        "          validation_data=(test_images, test_labels))\n",
        "\n",
        "test_metrics = model.evaluate(test_images, test_labels)\n"
      ],
      "metadata": {
        "colab": {
          "base_uri": "https://localhost:8080/"
        },
        "id": "wO9FhpbXW85D",
        "outputId": "38efb689-5af3-49f5-eb21-eb2e4fd1d2b2"
      },
      "execution_count": null,
      "outputs": [
        {
          "output_type": "stream",
          "name": "stdout",
          "text": [
            "Epoch 1/3\n",
            "1875/1875 [==============================] - 15s 7ms/step - loss: 0.0448 - accuracy: 0.9858 - rmseDiego: 7.4244 - val_loss: 0.0729 - val_accuracy: 0.9784 - val_rmseDiego: 7.4481\n",
            "Epoch 2/3\n",
            "1875/1875 [==============================] - 13s 7ms/step - loss: 0.0351 - accuracy: 0.9890 - rmseDiego: 7.4379 - val_loss: 0.0750 - val_accuracy: 0.9781 - val_rmseDiego: 7.4515\n",
            "Epoch 3/3\n",
            "1875/1875 [==============================] - 14s 7ms/step - loss: 0.0277 - accuracy: 0.9916 - rmseDiego: 7.4435 - val_loss: 0.0733 - val_accuracy: 0.9801 - val_rmseDiego: 7.4578\n",
            "313/313 [==============================] - 1s 3ms/step - loss: 0.0733 - accuracy: 0.9801 - rmseDiego: 7.4578\n"
          ]
        }
      ]
    },
    {
      "cell_type": "code",
      "source": [],
      "metadata": {
        "id": "SLztiD5bXQuM"
      },
      "execution_count": null,
      "outputs": []
    }
  ]
}